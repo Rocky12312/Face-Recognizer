{
 "cells": [
  {
   "cell_type": "code",
   "execution_count": 3,
   "metadata": {},
   "outputs": [],
   "source": [
    "import numpy as np\n",
    "import cv2\n",
    "import pickle\n",
    "import matplotlib.pyplot as plt\n",
    "%matplotlib inline"
   ]
  },
  {
   "cell_type": "code",
   "execution_count": 4,
   "metadata": {},
   "outputs": [
    {
     "data": {
      "text/plain": [
       "'C:\\\\Users\\\\Dell\\\\face recognizer'"
      ]
     },
     "execution_count": 4,
     "metadata": {},
     "output_type": "execute_result"
    }
   ],
   "source": [
    "pwd"
   ]
  },
  {
   "cell_type": "code",
   "execution_count": 5,
   "metadata": {},
   "outputs": [],
   "source": [
    "face_classifier = cv2.CascadeClassifier(\"haarcascade_frontalface_alt2.xml\")\n",
    "eye_classifier = cv2.CascadeClassifier('haarcascade_eye.xml')\n",
    "smile_classifier = cv2.CascadeClassifier('haarcascade_smile.xml')\n",
    "\n",
    "#Can use any of below three but the FischerFace is better\n",
    "\n",
    "recognizer = cv2.face.LBPHFaceRecognizer_create()\n",
    "#recognizer = cv2.face.EigenFaceRecognizer_create()\n",
    "#recognizer = cv2.face.createFisherFaceRecognizer()\n",
    "\n",
    "recognizer.read(\"trainner.yml\")"
   ]
  },
  {
   "cell_type": "code",
   "execution_count": 6,
   "metadata": {},
   "outputs": [],
   "source": [
    "#This piece of code for labels as output\n",
    "labels = {\"person_name\":1}\n",
    "with open(\"labels.pickle\", 'rb') as f:\n",
    "    real_labels = pickle.load(f)\n",
    "    labels = {v:k for k,v in real_labels.items()}"
   ]
  },
  {
   "cell_type": "code",
   "execution_count": 7,
   "metadata": {},
   "outputs": [],
   "source": [
    "cap = cv2.VideoCapture(0)\n",
    "while(True):\n",
    "    ret,frame = cap.read()\n",
    "    gray  = cv2.cvtColor(frame, cv2.COLOR_BGR2GRAY)\n",
    "    faces = face_classifier.detectMultiScale(gray, scaleFactor=1.5, minNeighbors=5)\n",
    "    for (x, y, w, h) in faces:\n",
    "        #print(x,y,w,h)\n",
    "        #(ycord_start, ycord_end)\n",
    "        roi_gray = gray[y:y+h, x:x+w]\n",
    "        roi_color = frame[y:y+h, x:x+w]\n",
    "        \n",
    "        id_, conf = recognizer.predict(roi_gray)\n",
    "        if conf>=45:\n",
    "            #for printing only the id in output\n",
    "            #print(id_)\n",
    "            #for printing labels in output\n",
    "            #print(labels[id_])\n",
    "            #for putting text over the bounding box\n",
    "            font = cv2.FONT_HERSHEY_SIMPLEX\n",
    "            name = labels[id_]\n",
    "            color = (255, 255, 255)\n",
    "            stroke = 2\n",
    "            cv2.putText(frame, name, (x,y), font, 1, color, stroke, cv2.LINE_AA)\n",
    "            \n",
    "            \n",
    "        image_item = \"my_image.png\"\n",
    "        cv2.imwrite(image_item,roi_gray)\n",
    "        \n",
    "        color = (255, 0, 0) #BGR 0-255 \n",
    "        stroke = 2\n",
    "        end_cord_x = x + w\n",
    "        end_cord_y = y + h\n",
    "        cv2.rectangle(frame, (x, y), (end_cord_x, end_cord_y), color, stroke)\n",
    "        \"\"\"eyes = eye_calssifier.detectMultiScale(roi_gray)\n",
    "        for (ex,ey,ew,eh) in eyes:\n",
    "            cv2.rectangle(roi_color,(ex,ey),(ex+ew,ey+eh),(0,255,0),2)\"\"\"\n",
    "        \n",
    "    cv2.imshow(\"frame\",frame)\n",
    "    if cv2.waitKey(20) &  0xFF == ord(\"q\"):\n",
    "        break\n",
    "cap.release()\n",
    "cv2.destroyAllWindows()"
   ]
  },
  {
   "cell_type": "code",
   "execution_count": null,
   "metadata": {},
   "outputs": [],
   "source": []
  }
 ],
 "metadata": {
  "kernelspec": {
   "display_name": "Python 3",
   "language": "python",
   "name": "python3"
  },
  "language_info": {
   "codemirror_mode": {
    "name": "ipython",
    "version": 3
   },
   "file_extension": ".py",
   "mimetype": "text/x-python",
   "name": "python",
   "nbconvert_exporter": "python",
   "pygments_lexer": "ipython3",
   "version": "3.7.3"
  }
 },
 "nbformat": 4,
 "nbformat_minor": 2
}
